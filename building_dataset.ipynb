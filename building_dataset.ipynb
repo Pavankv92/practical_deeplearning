{
 "cells": [
  {
   "cell_type": "markdown",
   "metadata": {},
   "source": [
    "# Looking at your data\n",
    "\n",
    "The goal of the dataset is to faithfully and completely capture the parent distribution, or what the data will look like in the wild when the model is used. Dataset can be summarized by mean, median, std.dev, min and max value and std.error. Std.error is also known as standard error of the mean $\\bar{x}$. This is the stf.dev divided by the square root of the number of the elements in the dataset. \n",
    "\n",
    "The std. error is a measure of the difference between dataset mean value $\\bar{x}$ and the mean value of the parent distribution. Idea is that if we have more data, we'll have better idea of the parent distribution that is generating this data, and so the mean value of the dataset will be closer to the mean value of the parent distribution. "
   ]
  },
  {
   "cell_type": "code",
   "execution_count": 2,
   "metadata": {},
   "outputs": [
    {
     "name": "stdout",
     "output_type": "stream",
     "text": [
      "mean  = 2.3519\n",
      "std   = 1.3128\n",
      "SE    = 0.3390\n",
      "median= 2.3190\n",
      "min   = 0.0705\n",
      "max   = 4.8231\n"
     ]
    }
   ],
   "source": [
    "import numpy as np\n",
    "\n",
    "f = [0.3408,3.0150,4.3465,2.1271,2.7561,\n",
    "     2.7887,4.8231,0.0705,3.9897,0.9804,\n",
    "     2.3944,2.0085,1.7821,1.5362,2.3190]\n",
    "f = np.array(f)\n",
    "\n",
    "print\n",
    "print(\"mean  = %0.4f\" % f.mean())\n",
    "print(\"std   = %0.4f\" % f.std())\n",
    "print(\"SE    = %0.4f\" % (f.std()/np.sqrt(f.shape[0])))\n",
    "print(\"median= %0.4f\" % np.median(f))\n",
    "print(\"min   = %0.4f\" % f.min())\n",
    "print(\"max   = %0.4f\" % f.max())"
   ]
  },
  {
   "cell_type": "markdown",
   "metadata": {},
   "source": [
    "# Building datasets\n",
    "\n",
    "## Iris\n",
    "\n"
   ]
  },
  {
   "cell_type": "code",
   "execution_count": 13,
   "metadata": {},
   "outputs": [
    {
     "data": {
      "image/png": "[encoded data removed]",
      "text/plain": [
       "<Figure size 640x480 with 1 Axes>"
      ]
     },
     "metadata": {},
     "output_type": "display_data"
    }
   ],
   "source": [
    "import numpy as np \n",
    "import matplotlib.pyplot as plt \n",
    "\n",
    "with open(\"./data/iris.data\") as f:\n",
    "    lines = [i[:-1]for i in f.readlines()]\n",
    "n = [\"Iris-setosa\",\"Iris-versicolor\",\"Iris-virginica\"]\n",
    "# print(n.index(\"Iris-virginica\"))\n",
    "# x = lables\n",
    "x = [n.index(i.split(\",\")[-1]) for i in lines if i != \"\"]\n",
    "x = np.array(x, dtype=\"uint8\")\n",
    "# print(x.shape)\n",
    "# y = features\n",
    "y = [[float(j) for j in i.split(\",\")[:-1]] for i in lines if i != \"\"]\n",
    "y = np.array(y)\n",
    "# print(y.shape)\n",
    "idx = np.argsort(np.random.random(x.shape[0]))\n",
    "x = x[idx]\n",
    "y = y[idx]\n",
    "np.save(\"./data/iris_features\", y)\n",
    "np.save(\"./data/iris_labels\", x)\n",
    "plt.boxplot(y)\n",
    "plt.show()\n",
    "\n"
   ]
  }
 ],
 "metadata": {
  "kernelspec": {
   "display_name": "base",
   "language": "python",
   "name": "python3"
  },
  "language_info": {
   "codemirror_mode": {
    "name": "ipython",
    "version": 3
   },
   "file_extension": ".py",
   "mimetype": "text/x-python",
   "name": "python",
   "nbconvert_exporter": "python",
   "pygments_lexer": "ipython3",
   "version": "3.11.4"
  }
 },
 "nbformat": 4,
 "nbformat_minor": 2
}
